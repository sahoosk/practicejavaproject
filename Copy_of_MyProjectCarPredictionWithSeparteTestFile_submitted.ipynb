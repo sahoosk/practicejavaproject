{
  "nbformat": 4,
  "nbformat_minor": 0,
  "metadata": {
    "colab": {
      "provenance": [],
      "collapsed_sections": [],
      "authorship_tag": "ABX9TyOmqfpDTZjtNDjeuY/pas1X",
      "include_colab_link": true
    },
    "kernelspec": {
      "name": "python3",
      "display_name": "Python 3"
    },
    "language_info": {
      "name": "python"
    }
  },
  "cells": [
    {
      "cell_type": "markdown",
      "metadata": {
        "id": "view-in-github",
        "colab_type": "text"
      },
      "source": [
        "<a href=\"https://colab.research.google.com/github/sahoosk/practicejavaproject/blob/master/Copy_of_MyProjectCarPredictionWithSeparteTestFile_submitted.ipynb\" target=\"_parent\"><img src=\"https://colab.research.google.com/assets/colab-badge.svg\" alt=\"Open In Colab\"/></a>"
      ]
    },
    {
      "cell_type": "markdown",
      "source": [
        "**Importing Required Libraries**"
      ],
      "metadata": {
        "id": "0nfc_e79EZZS"
      }
    },
    {
      "cell_type": "code",
      "execution_count": 8,
      "metadata": {
        "id": "vY6pH9xoD0lx"
      },
      "outputs": [],
      "source": [
        "import pandas as pd\n",
        "import numpy as np\n",
        "import matplotlib.pyplot as plt\n",
        "import seaborn as sns\n",
        "from sklearn.linear_model import LinearRegression\n",
        "from sklearn.metrics import mean_squared_error\n",
        "from sklearn.linear_model import Lasso\n",
        "from math import sqrt\n",
        "from sklearn import metrics"
      ]
    },
    {
      "cell_type": "markdown",
      "source": [
        "**Importing Dataset**"
      ],
      "metadata": {
        "id": "T0YlXOTDEmKw"
      }
    },
    {
      "cell_type": "code",
      "source": [
        "dataset = pd.read_csv('/content/Training_Data_Set.csv')\n",
        "dataset = dataset.set_index('Id')\n",
        "dataset.fillna(0, inplace = True)\n",
        "dataset.replace([np.inf, -np.inf], np.nan, inplace = True)\n",
        "\n",
        "#Encoding non string values to numerical values\n",
        "dataset.replace({'seat_count': {'None':0}}, inplace = True)\n",
        "dataset.replace({'door_count': {'None':0}}, inplace = True)\n",
        "dataset.replace({'body_type': {'compact':1, 'van':2}}, inplace = True)\n",
        "dataset.replace({'fuel_type': {'petrol':1, 'diesel':2}}, inplace = True)\n",
        "dataset.replace({'transmission': {'auto':1, 'man':2}}, inplace = True)\n",
        "\n",
        "X = dataset.iloc[:,[0,1,2,3,4,5,6,7,8,9,10,11,12,13,14]].values\n",
        "Y = dataset.iloc[:,[15]].values"
      ],
      "metadata": {
        "id": "OIeTKF5cEw3K"
      },
      "execution_count": 9,
      "outputs": []
    },
    {
      "cell_type": "code",
      "source": [
        "print(X)"
      ],
      "metadata": {
        "colab": {
          "base_uri": "https://localhost:8080/"
        },
        "id": "e_l0SNMVQvHP",
        "outputId": "13009dc4-0edc-4b00-e42a-d7ed2e1de890"
      },
      "execution_count": 10,
      "outputs": [
        {
          "output_type": "stream",
          "name": "stdout",
          "text": [
            "[['skoda' 'octavia' 'Ahmedabad' ... 0 0 1]\n",
            " ['fiat' 'panda' 'Ahmedabad' ... '4' '4' 1]\n",
            " ['bmw' 'x1' 'Hyderabad' ... '4' '5' 2]\n",
            " ...\n",
            " ['bmw' 'x1' 'Pune' ... '4' '5' 2]\n",
            " ['toyota' 'avensis' 'Jaipur' ... 0 0 2]\n",
            " ['bmw' 'x5' 'Kochi' ... '5' '5' 2]]\n"
          ]
        }
      ]
    },
    {
      "cell_type": "code",
      "source": [
        "print(Y)"
      ],
      "metadata": {
        "colab": {
          "base_uri": "https://localhost:8080/"
        },
        "id": "rS8eBscJQ7Lu",
        "outputId": "4826677d-65fe-435a-8c41-ab53ef8004ca"
      },
      "execution_count": 11,
      "outputs": [
        {
          "output_type": "stream",
          "name": "stdout",
          "text": [
            "[[ 543764.25]\n",
            " [ 401819.25]\n",
            " [2392855.5 ]\n",
            " ...\n",
            " [2008123.5 ]\n",
            " [ 874352.25]\n",
            " [1576610.25]]\n"
          ]
        }
      ]
    },
    {
      "cell_type": "code",
      "source": [
        "Y.shape"
      ],
      "metadata": {
        "colab": {
          "base_uri": "https://localhost:8080/"
        },
        "id": "5ttRUjoDRc9m",
        "outputId": "e65c5fed-8949-46e0-e03a-c0c70ebe4841"
      },
      "execution_count": 12,
      "outputs": [
        {
          "output_type": "execute_result",
          "data": {
            "text/plain": [
              "(53515, 1)"
            ]
          },
          "metadata": {},
          "execution_count": 12
        }
      ]
    },
    {
      "cell_type": "code",
      "source": [
        "dataset.head()"
      ],
      "metadata": {
        "colab": {
          "base_uri": "https://localhost:8080/",
          "height": 371
        },
        "id": "AdV85I3YS28C",
        "outputId": "748f6e45-250e-4fe1-e7bb-393f1cb1b1dc"
      },
      "execution_count": 13,
      "outputs": [
        {
          "output_type": "execute_result",
          "data": {
            "text/plain": [
              "        Maker    model   Location  Distance       Owner Type  \\\n",
              "Id                                                             \n",
              "25001   skoda  octavia  Ahmedabad        0.0          Second   \n",
              "25002    fiat    panda  Ahmedabad    27750.0           Third   \n",
              "25003     bmw       x1  Hyderabad    46000.0           Third   \n",
              "25004  nissan     juke     Mumbai    43949.0           Third   \n",
              "25005     bmw       x5     Jaipur    59524.0  Fourth & Above   \n",
              "\n",
              "       manufacture_year  Age of car  engine_displacement  engine_power  \\\n",
              "Id                                                                       \n",
              "25001              1964          55                 1964         147.0   \n",
              "25002              2012           7                 1242          51.0   \n",
              "25003              2014           5                 1995         105.0   \n",
              "25004              2011           8                 1618         140.0   \n",
              "25005              2012           7                 2993         180.0   \n",
              "\n",
              "       body_type  Vroom Audit Rating  transmission door_count seat_count  \\\n",
              "Id                                                                         \n",
              "25001          1                   8             2          0          0   \n",
              "25002          0                   6             2          4          4   \n",
              "25003          0                   7             1          4          5   \n",
              "25004          0                   7             2          4          5   \n",
              "25005          0                   7             1          4          5   \n",
              "\n",
              "       fuel_type       Price  \n",
              "Id                            \n",
              "25001          1   543764.25  \n",
              "25002          1   401819.25  \n",
              "25003          2  2392855.50  \n",
              "25004          1   958606.50  \n",
              "25005          2  3085561.50  "
            ],
            "text/html": [
              "\n",
              "  <div id=\"df-8a686e49-4aa1-4c01-a184-9d7e9b008ad1\">\n",
              "    <div class=\"colab-df-container\">\n",
              "      <div>\n",
              "<style scoped>\n",
              "    .dataframe tbody tr th:only-of-type {\n",
              "        vertical-align: middle;\n",
              "    }\n",
              "\n",
              "    .dataframe tbody tr th {\n",
              "        vertical-align: top;\n",
              "    }\n",
              "\n",
              "    .dataframe thead th {\n",
              "        text-align: right;\n",
              "    }\n",
              "</style>\n",
              "<table border=\"1\" class=\"dataframe\">\n",
              "  <thead>\n",
              "    <tr style=\"text-align: right;\">\n",
              "      <th></th>\n",
              "      <th>Maker</th>\n",
              "      <th>model</th>\n",
              "      <th>Location</th>\n",
              "      <th>Distance</th>\n",
              "      <th>Owner Type</th>\n",
              "      <th>manufacture_year</th>\n",
              "      <th>Age of car</th>\n",
              "      <th>engine_displacement</th>\n",
              "      <th>engine_power</th>\n",
              "      <th>body_type</th>\n",
              "      <th>Vroom Audit Rating</th>\n",
              "      <th>transmission</th>\n",
              "      <th>door_count</th>\n",
              "      <th>seat_count</th>\n",
              "      <th>fuel_type</th>\n",
              "      <th>Price</th>\n",
              "    </tr>\n",
              "    <tr>\n",
              "      <th>Id</th>\n",
              "      <th></th>\n",
              "      <th></th>\n",
              "      <th></th>\n",
              "      <th></th>\n",
              "      <th></th>\n",
              "      <th></th>\n",
              "      <th></th>\n",
              "      <th></th>\n",
              "      <th></th>\n",
              "      <th></th>\n",
              "      <th></th>\n",
              "      <th></th>\n",
              "      <th></th>\n",
              "      <th></th>\n",
              "      <th></th>\n",
              "      <th></th>\n",
              "    </tr>\n",
              "  </thead>\n",
              "  <tbody>\n",
              "    <tr>\n",
              "      <th>25001</th>\n",
              "      <td>skoda</td>\n",
              "      <td>octavia</td>\n",
              "      <td>Ahmedabad</td>\n",
              "      <td>0.0</td>\n",
              "      <td>Second</td>\n",
              "      <td>1964</td>\n",
              "      <td>55</td>\n",
              "      <td>1964</td>\n",
              "      <td>147.0</td>\n",
              "      <td>1</td>\n",
              "      <td>8</td>\n",
              "      <td>2</td>\n",
              "      <td>0</td>\n",
              "      <td>0</td>\n",
              "      <td>1</td>\n",
              "      <td>543764.25</td>\n",
              "    </tr>\n",
              "    <tr>\n",
              "      <th>25002</th>\n",
              "      <td>fiat</td>\n",
              "      <td>panda</td>\n",
              "      <td>Ahmedabad</td>\n",
              "      <td>27750.0</td>\n",
              "      <td>Third</td>\n",
              "      <td>2012</td>\n",
              "      <td>7</td>\n",
              "      <td>1242</td>\n",
              "      <td>51.0</td>\n",
              "      <td>0</td>\n",
              "      <td>6</td>\n",
              "      <td>2</td>\n",
              "      <td>4</td>\n",
              "      <td>4</td>\n",
              "      <td>1</td>\n",
              "      <td>401819.25</td>\n",
              "    </tr>\n",
              "    <tr>\n",
              "      <th>25003</th>\n",
              "      <td>bmw</td>\n",
              "      <td>x1</td>\n",
              "      <td>Hyderabad</td>\n",
              "      <td>46000.0</td>\n",
              "      <td>Third</td>\n",
              "      <td>2014</td>\n",
              "      <td>5</td>\n",
              "      <td>1995</td>\n",
              "      <td>105.0</td>\n",
              "      <td>0</td>\n",
              "      <td>7</td>\n",
              "      <td>1</td>\n",
              "      <td>4</td>\n",
              "      <td>5</td>\n",
              "      <td>2</td>\n",
              "      <td>2392855.50</td>\n",
              "    </tr>\n",
              "    <tr>\n",
              "      <th>25004</th>\n",
              "      <td>nissan</td>\n",
              "      <td>juke</td>\n",
              "      <td>Mumbai</td>\n",
              "      <td>43949.0</td>\n",
              "      <td>Third</td>\n",
              "      <td>2011</td>\n",
              "      <td>8</td>\n",
              "      <td>1618</td>\n",
              "      <td>140.0</td>\n",
              "      <td>0</td>\n",
              "      <td>7</td>\n",
              "      <td>2</td>\n",
              "      <td>4</td>\n",
              "      <td>5</td>\n",
              "      <td>1</td>\n",
              "      <td>958606.50</td>\n",
              "    </tr>\n",
              "    <tr>\n",
              "      <th>25005</th>\n",
              "      <td>bmw</td>\n",
              "      <td>x5</td>\n",
              "      <td>Jaipur</td>\n",
              "      <td>59524.0</td>\n",
              "      <td>Fourth &amp; Above</td>\n",
              "      <td>2012</td>\n",
              "      <td>7</td>\n",
              "      <td>2993</td>\n",
              "      <td>180.0</td>\n",
              "      <td>0</td>\n",
              "      <td>7</td>\n",
              "      <td>1</td>\n",
              "      <td>4</td>\n",
              "      <td>5</td>\n",
              "      <td>2</td>\n",
              "      <td>3085561.50</td>\n",
              "    </tr>\n",
              "  </tbody>\n",
              "</table>\n",
              "</div>\n",
              "      <button class=\"colab-df-convert\" onclick=\"convertToInteractive('df-8a686e49-4aa1-4c01-a184-9d7e9b008ad1')\"\n",
              "              title=\"Convert this dataframe to an interactive table.\"\n",
              "              style=\"display:none;\">\n",
              "        \n",
              "  <svg xmlns=\"http://www.w3.org/2000/svg\" height=\"24px\"viewBox=\"0 0 24 24\"\n",
              "       width=\"24px\">\n",
              "    <path d=\"M0 0h24v24H0V0z\" fill=\"none\"/>\n",
              "    <path d=\"M18.56 5.44l.94 2.06.94-2.06 2.06-.94-2.06-.94-.94-2.06-.94 2.06-2.06.94zm-11 1L8.5 8.5l.94-2.06 2.06-.94-2.06-.94L8.5 2.5l-.94 2.06-2.06.94zm10 10l.94 2.06.94-2.06 2.06-.94-2.06-.94-.94-2.06-.94 2.06-2.06.94z\"/><path d=\"M17.41 7.96l-1.37-1.37c-.4-.4-.92-.59-1.43-.59-.52 0-1.04.2-1.43.59L10.3 9.45l-7.72 7.72c-.78.78-.78 2.05 0 2.83L4 21.41c.39.39.9.59 1.41.59.51 0 1.02-.2 1.41-.59l7.78-7.78 2.81-2.81c.8-.78.8-2.07 0-2.86zM5.41 20L4 18.59l7.72-7.72 1.47 1.35L5.41 20z\"/>\n",
              "  </svg>\n",
              "      </button>\n",
              "      \n",
              "  <style>\n",
              "    .colab-df-container {\n",
              "      display:flex;\n",
              "      flex-wrap:wrap;\n",
              "      gap: 12px;\n",
              "    }\n",
              "\n",
              "    .colab-df-convert {\n",
              "      background-color: #E8F0FE;\n",
              "      border: none;\n",
              "      border-radius: 50%;\n",
              "      cursor: pointer;\n",
              "      display: none;\n",
              "      fill: #1967D2;\n",
              "      height: 32px;\n",
              "      padding: 0 0 0 0;\n",
              "      width: 32px;\n",
              "    }\n",
              "\n",
              "    .colab-df-convert:hover {\n",
              "      background-color: #E2EBFA;\n",
              "      box-shadow: 0px 1px 2px rgba(60, 64, 67, 0.3), 0px 1px 3px 1px rgba(60, 64, 67, 0.15);\n",
              "      fill: #174EA6;\n",
              "    }\n",
              "\n",
              "    [theme=dark] .colab-df-convert {\n",
              "      background-color: #3B4455;\n",
              "      fill: #D2E3FC;\n",
              "    }\n",
              "\n",
              "    [theme=dark] .colab-df-convert:hover {\n",
              "      background-color: #434B5C;\n",
              "      box-shadow: 0px 1px 3px 1px rgba(0, 0, 0, 0.15);\n",
              "      filter: drop-shadow(0px 1px 2px rgba(0, 0, 0, 0.3));\n",
              "      fill: #FFFFFF;\n",
              "    }\n",
              "  </style>\n",
              "\n",
              "      <script>\n",
              "        const buttonEl =\n",
              "          document.querySelector('#df-8a686e49-4aa1-4c01-a184-9d7e9b008ad1 button.colab-df-convert');\n",
              "        buttonEl.style.display =\n",
              "          google.colab.kernel.accessAllowed ? 'block' : 'none';\n",
              "\n",
              "        async function convertToInteractive(key) {\n",
              "          const element = document.querySelector('#df-8a686e49-4aa1-4c01-a184-9d7e9b008ad1');\n",
              "          const dataTable =\n",
              "            await google.colab.kernel.invokeFunction('convertToInteractive',\n",
              "                                                     [key], {});\n",
              "          if (!dataTable) return;\n",
              "\n",
              "          const docLinkHtml = 'Like what you see? Visit the ' +\n",
              "            '<a target=\"_blank\" href=https://colab.research.google.com/notebooks/data_table.ipynb>data table notebook</a>'\n",
              "            + ' to learn more about interactive tables.';\n",
              "          element.innerHTML = '';\n",
              "          dataTable['output_type'] = 'display_data';\n",
              "          await google.colab.output.renderOutput(dataTable, element);\n",
              "          const docLink = document.createElement('div');\n",
              "          docLink.innerHTML = docLinkHtml;\n",
              "          element.appendChild(docLink);\n",
              "        }\n",
              "      </script>\n",
              "    </div>\n",
              "  </div>\n",
              "  "
            ]
          },
          "metadata": {},
          "execution_count": 13
        }
      ]
    },
    {
      "cell_type": "code",
      "source": [
        "dataset.isnull().sum()"
      ],
      "metadata": {
        "colab": {
          "base_uri": "https://localhost:8080/"
        },
        "id": "NidYvnkIUDsE",
        "outputId": "81be44e7-8a19-4cc1-f0ae-c462e0c9e50b"
      },
      "execution_count": 14,
      "outputs": [
        {
          "output_type": "execute_result",
          "data": {
            "text/plain": [
              "Maker                  0\n",
              "model                  0\n",
              "Location               0\n",
              "Distance               0\n",
              "Owner Type             0\n",
              "manufacture_year       0\n",
              "Age of car             0\n",
              "engine_displacement    0\n",
              "engine_power           0\n",
              "body_type              0\n",
              "Vroom Audit Rating     0\n",
              "transmission           0\n",
              "door_count             0\n",
              "seat_count             0\n",
              "fuel_type              0\n",
              "Price                  0\n",
              "dtype: int64"
            ]
          },
          "metadata": {},
          "execution_count": 14
        }
      ]
    },
    {
      "cell_type": "code",
      "source": [
        "dataset.info()"
      ],
      "metadata": {
        "colab": {
          "base_uri": "https://localhost:8080/"
        },
        "id": "I_leB2EaWGdu",
        "outputId": "cacd0be4-58f9-4c19-cbf0-4b5d8f102820"
      },
      "execution_count": 15,
      "outputs": [
        {
          "output_type": "stream",
          "name": "stdout",
          "text": [
            "<class 'pandas.core.frame.DataFrame'>\n",
            "Int64Index: 53515 entries, 25001 to 78515\n",
            "Data columns (total 16 columns):\n",
            " #   Column               Non-Null Count  Dtype  \n",
            "---  ------               --------------  -----  \n",
            " 0   Maker                53515 non-null  object \n",
            " 1   model                53515 non-null  object \n",
            " 2   Location             53515 non-null  object \n",
            " 3   Distance             53515 non-null  float64\n",
            " 4   Owner Type           53515 non-null  object \n",
            " 5   manufacture_year     53515 non-null  int64  \n",
            " 6   Age of car           53515 non-null  int64  \n",
            " 7   engine_displacement  53515 non-null  int64  \n",
            " 8   engine_power         53515 non-null  float64\n",
            " 9   body_type            53515 non-null  int64  \n",
            " 10  Vroom Audit Rating   53515 non-null  int64  \n",
            " 11  transmission         53515 non-null  int64  \n",
            " 12  door_count           53515 non-null  object \n",
            " 13  seat_count           53515 non-null  object \n",
            " 14  fuel_type            53515 non-null  int64  \n",
            " 15  Price                53515 non-null  float64\n",
            "dtypes: float64(3), int64(7), object(6)\n",
            "memory usage: 6.9+ MB\n"
          ]
        }
      ]
    },
    {
      "cell_type": "markdown",
      "source": [
        "# **Data Processing**\n",
        "\n",
        "## ***Level Encoding***"
      ],
      "metadata": {
        "id": "YxoBMIUObEga"
      }
    },
    {
      "cell_type": "code",
      "source": [
        "from sklearn.preprocessing import LabelEncoder\n",
        "leMaker = LabelEncoder()\n",
        "X[:, 0] = leMaker.fit_transform(X[:, 0])\n",
        "leModel = LabelEncoder()\n",
        "X[:, 1] = leModel.fit_transform(X[:, 1])\n",
        "leLocation = LabelEncoder()\n",
        "X[:, 2] = leLocation.fit_transform(X[:, 2])\n",
        "leOwnerType = LabelEncoder()\n",
        "X[:, 4] = leOwnerType.fit_transform(X[:, 4])\n",
        "\n"
      ],
      "metadata": {
        "id": "2LLQm1ElZ7gu"
      },
      "execution_count": 16,
      "outputs": []
    },
    {
      "cell_type": "code",
      "source": [
        "#from sklearn.preprocessing import OneHotEncoder\n",
        "#from sklearn.compose import ColumnTransformer\n",
        "#ctTransmission = ColumnTransformer(transformers = [('encoder', OneHotEncoder(), [11])], remainder = 'passthrough')\n",
        "#X = ctTransmission.fit_transform(X)\n",
        "#ctFuelType = ColumnTransformer(transformers = [('encoder', OneHotEncoder(), [14])], remainder = 'passthrough')\n",
        "#X = ctFuelType.fit_transform(X)\n"
      ],
      "metadata": {
        "id": "WdLoarL3gu6k"
      },
      "execution_count": null,
      "outputs": []
    },
    {
      "cell_type": "code",
      "source": [
        "print(X)"
      ],
      "metadata": {
        "colab": {
          "base_uri": "https://localhost:8080/"
        },
        "id": "MXalxEOConEH",
        "outputId": "bad29251-324e-4158-efdd-94500e6e0c77"
      },
      "execution_count": 17,
      "outputs": [
        {
          "output_type": "stream",
          "name": "stdout",
          "text": [
            "[[6 8 0 ... 0 0 1]\n",
            " [2 9 0 ... '4' '4' 1]\n",
            " [1 18 5 ... '4' '5' 2]\n",
            " ...\n",
            " [1 18 10 ... '4' '5' 2]\n",
            " [7 1 6 ... 0 0 2]\n",
            " [1 20 7 ... '5' '5' 2]]\n"
          ]
        }
      ]
    },
    {
      "cell_type": "markdown",
      "source": [
        "# Feature Scaling"
      ],
      "metadata": {
        "id": "j00sOvspPlWY"
      }
    },
    {
      "cell_type": "code",
      "source": [
        "from sklearn.preprocessing import StandardScaler\n",
        "sc = StandardScaler()\n",
        "X = sc.fit_transform(X)\n"
      ],
      "metadata": {
        "id": "ybdjvTKiPqcC"
      },
      "execution_count": 18,
      "outputs": []
    },
    {
      "cell_type": "code",
      "source": [
        "print(X)"
      ],
      "metadata": {
        "colab": {
          "base_uri": "https://localhost:8080/"
        },
        "id": "Xy_iEy3mQTQZ",
        "outputId": "711f6952-ea6e-44d6-fc33-d4f9606ffb62"
      },
      "execution_count": 19,
      "outputs": [
        {
          "output_type": "stream",
          "name": "stdout",
          "text": [
            "[[ 0.67044115 -0.52537891 -1.58682764 ... -2.21242654 -2.20874584\n",
            "  -1.0304166 ]\n",
            " [-0.89516732 -0.36322156 -1.58682764 ...  0.37999873 -0.05860016\n",
            "  -1.0304166 ]\n",
            " [-1.28656944  1.09619461 -0.00308964 ...  0.37999873  0.47893626\n",
            "   0.97048126]\n",
            " ...\n",
            " [-1.28656944  1.09619461  1.58064835 ...  0.37999873  0.47893626\n",
            "   0.97048126]\n",
            " [ 1.06184326 -1.66048038  0.31365796 ... -2.21242654 -2.20874584\n",
            "   0.97048126]\n",
            " [-1.28656944  1.42050931  0.63040556 ...  1.02810505  0.47893626\n",
            "   0.97048126]]\n"
          ]
        }
      ]
    },
    {
      "cell_type": "markdown",
      "source": [
        "# Splitting dataset into Training and Testing set"
      ],
      "metadata": {
        "id": "clQS7wBGQboS"
      }
    },
    {
      "cell_type": "code",
      "source": [
        "from sklearn.model_selection import train_test_split\n",
        "(X_train, X_test, Y_train, Y_test) = train_test_split(X, Y, test_size = 0.2, random_state = 0)\n"
      ],
      "metadata": {
        "id": "qCbetqDPQjF9"
      },
      "execution_count": 20,
      "outputs": []
    },
    {
      "cell_type": "markdown",
      "source": [
        "# Training Model"
      ],
      "metadata": {
        "id": "0PzEk3KwRhTC"
      }
    },
    {
      "cell_type": "code",
      "source": [
        "from sklearn.ensemble import RandomForestRegressor\n",
        "regression = RandomForestRegressor(random_state = 0)\n",
        "regression.fit(X_train, Y_train)\n"
      ],
      "metadata": {
        "colab": {
          "base_uri": "https://localhost:8080/"
        },
        "id": "kwwgY4ioRf6G",
        "outputId": "98d7f72e-0b6e-45c0-a7ea-c4ec08e568b0"
      },
      "execution_count": 21,
      "outputs": [
        {
          "output_type": "stream",
          "name": "stderr",
          "text": [
            "/usr/local/lib/python3.7/dist-packages/ipykernel_launcher.py:3: DataConversionWarning: A column-vector y was passed when a 1d array was expected. Please change the shape of y to (n_samples,), for example using ravel().\n",
            "  This is separate from the ipykernel package so we can avoid doing imports until\n"
          ]
        },
        {
          "output_type": "execute_result",
          "data": {
            "text/plain": [
              "RandomForestRegressor(random_state=0)"
            ]
          },
          "metadata": {},
          "execution_count": 21
        }
      ]
    },
    {
      "cell_type": "code",
      "source": [
        "y_pred = regression.predict(X_test)"
      ],
      "metadata": {
        "id": "7L1Z18-nSWSE"
      },
      "execution_count": 22,
      "outputs": []
    },
    {
      "cell_type": "code",
      "source": [
        "print(y_pred)"
      ],
      "metadata": {
        "colab": {
          "base_uri": "https://localhost:8080/"
        },
        "id": "6U4liEVWSz8H",
        "outputId": "ff1ae8be-6425-4c39-a26d-a20ebc248c35"
      },
      "execution_count": 23,
      "outputs": [
        {
          "output_type": "stream",
          "name": "stdout",
          "text": [
            "[1295843.37  2228081.775 2267860.395 ...  912681.465 1897356.48\n",
            "  406650.69 ]\n"
          ]
        }
      ]
    },
    {
      "cell_type": "code",
      "source": [
        "print(Y_test)"
      ],
      "metadata": {
        "colab": {
          "base_uri": "https://localhost:8080/"
        },
        "id": "Hel8FzXJS7tj",
        "outputId": "30cd1534-2a1d-4038-de9b-7e2d26271e89"
      },
      "execution_count": 24,
      "outputs": [
        {
          "output_type": "stream",
          "name": "stdout",
          "text": [
            "[[1291398.75]\n",
            " [2065961.25]\n",
            " [2080148.25]\n",
            " ...\n",
            " [1012500.  ]\n",
            " [1626134.25]\n",
            " [ 360843.75]]\n"
          ]
        }
      ]
    },
    {
      "cell_type": "markdown",
      "source": [
        "# Testing Result"
      ],
      "metadata": {
        "id": "HDIL_emfSnoc"
      }
    },
    {
      "cell_type": "code",
      "source": [
        "mydata = np.concatenate((y_pred.reshape(len(y_pred), 1), Y_test.reshape(len(Y_test), 1)), 1)\n",
        "print(mydata)"
      ],
      "metadata": {
        "colab": {
          "base_uri": "https://localhost:8080/"
        },
        "id": "7M3KpHxgSrvE",
        "outputId": "5c86d68c-3e97-4e7a-c0d7-187bd65fdd84"
      },
      "execution_count": 25,
      "outputs": [
        {
          "output_type": "stream",
          "name": "stdout",
          "text": [
            "[[1295843.37  1291398.75 ]\n",
            " [2228081.775 2065961.25 ]\n",
            " [2267860.395 2080148.25 ]\n",
            " ...\n",
            " [ 912681.465 1012500.   ]\n",
            " [1897356.48  1626134.25 ]\n",
            " [ 406650.69   360843.75 ]]\n"
          ]
        }
      ]
    },
    {
      "cell_type": "markdown",
      "source": [
        "# Calculating Accuracy of model"
      ],
      "metadata": {
        "id": "BsuuQKqjUXJA"
      }
    },
    {
      "cell_type": "code",
      "source": [
        "from sklearn.metrics import r2_score\n",
        "r2_score(Y_test, y_pred)\n",
        "\n"
      ],
      "metadata": {
        "colab": {
          "base_uri": "https://localhost:8080/"
        },
        "id": "Ico5orSFUdxR",
        "outputId": "5917238a-eebb-4f8c-fba8-b55ff4115f76"
      },
      "execution_count": 26,
      "outputs": [
        {
          "output_type": "execute_result",
          "data": {
            "text/plain": [
              "0.9298218070105091"
            ]
          },
          "metadata": {},
          "execution_count": 26
        }
      ]
    },
    {
      "cell_type": "markdown",
      "source": [
        "# Making a Dataframe"
      ],
      "metadata": {
        "id": "KLc9IJNWVetw"
      }
    },
    {
      "cell_type": "code",
      "source": [
        "dataframe = pd.DataFrame(mydata,columns = ['Predicted Value', 'Real Value'])\n",
        "print(dataframe)"
      ],
      "metadata": {
        "colab": {
          "base_uri": "https://localhost:8080/"
        },
        "id": "YljBLlCDVkzk",
        "outputId": "524b17fb-d57f-408b-80a9-df3757f54fa1"
      },
      "execution_count": null,
      "outputs": [
        {
          "output_type": "stream",
          "name": "stdout",
          "text": [
            "       Predicted Value  Real Value\n",
            "0         1.295843e+06  1291398.75\n",
            "1         2.228082e+06  2065961.25\n",
            "2         2.267860e+06  2080148.25\n",
            "3         1.088798e+06  1128141.75\n",
            "4         4.960416e+05   450199.50\n",
            "...                ...         ...\n",
            "10698     5.553686e+06  5480837.25\n",
            "10699     2.118760e+06  2113512.00\n",
            "10700     9.126815e+05  1012500.00\n",
            "10701     1.897356e+06  1626134.25\n",
            "10702     4.066507e+05   360843.75\n",
            "\n",
            "[10703 rows x 2 columns]\n"
          ]
        }
      ]
    },
    {
      "cell_type": "code",
      "source": [
        "dataframe.to_csv"
      ],
      "metadata": {
        "colab": {
          "base_uri": "https://localhost:8080/"
        },
        "id": "CY8OKOgHXUWK",
        "outputId": "c7637c10-86a0-4f3e-a158-f00445c38a03"
      },
      "execution_count": null,
      "outputs": [
        {
          "output_type": "execute_result",
          "data": {
            "text/plain": [
              "<bound method NDFrame.to_csv of        Predicted Value  Real Value\n",
              "0         1.295843e+06  1291398.75\n",
              "1         2.228082e+06  2065961.25\n",
              "2         2.267860e+06  2080148.25\n",
              "3         1.088798e+06  1128141.75\n",
              "4         4.960416e+05   450199.50\n",
              "...                ...         ...\n",
              "10698     5.553686e+06  5480837.25\n",
              "10699     2.118760e+06  2113512.00\n",
              "10700     9.126815e+05  1012500.00\n",
              "10701     1.897356e+06  1626134.25\n",
              "10702     4.066507e+05   360843.75\n",
              "\n",
              "[10703 rows x 2 columns]>"
            ]
          },
          "metadata": {},
          "execution_count": 40
        }
      ]
    },
    {
      "cell_type": "code",
      "source": [
        "print(dataframe.index)"
      ],
      "metadata": {
        "colab": {
          "base_uri": "https://localhost:8080/"
        },
        "id": "oiTC-Ly4nM-I",
        "outputId": "3b723dba-979a-4a98-bba6-6a9fbf4ff615"
      },
      "execution_count": null,
      "outputs": [
        {
          "output_type": "stream",
          "name": "stdout",
          "text": [
            "RangeIndex(start=0, stop=10703, step=1)\n"
          ]
        }
      ]
    },
    {
      "cell_type": "code",
      "source": [
        "dataframe.to_csv(r'/content/my_data_export.csv', index=True)"
      ],
      "metadata": {
        "id": "0UAIwR7Xzglv"
      },
      "execution_count": null,
      "outputs": []
    },
    {
      "cell_type": "markdown",
      "source": [
        "# Prepare External Test Data set to feed the Trained Model"
      ],
      "metadata": {
        "id": "yeo9jXAb2-qx"
      }
    },
    {
      "cell_type": "code",
      "source": [
        "import pandas as pdExt\n",
        "external_dataset = pdExt.read_csv('/content/Test_Data_Set.csv')\n",
        "external_dataset = external_dataset.set_index('Id')\n",
        "external_dataset.fillna(0, inplace = True)\n",
        "\n",
        "import numpy as npExt\n",
        "external_dataset.replace([npExt.inf, -npExt.inf], npExt.nan, inplace = True)\n",
        "\n",
        "#Encoding non string values to numerical values\n",
        "external_dataset.replace({'seat_count': {'None':0}}, inplace = True)\n",
        "external_dataset.replace({'door_count': {'None':0}}, inplace = True)\n",
        "external_dataset.replace({'body_type': {'compact':1, 'van':2}}, inplace = True)\n",
        "external_dataset.replace({'fuel_type': {'petrol':1, 'diesel':2}}, inplace = True)\n",
        "external_dataset.replace({'transmission': {'auto':1, 'man':2}}, inplace = True)\n",
        "\n",
        "X_external_dataset = external_dataset.iloc[:, [0,1,2,3,4,5,6,7,8,9,10,11,12,13,14]].values\n",
        "\n",
        "from sklearn.preprocessing import LabelEncoder\n",
        "leMaker = LabelEncoder()\n",
        "X_external_dataset[:, 0] = leMaker.fit_transform(X_external_dataset[:, 0])\n",
        "leModel = LabelEncoder()\n",
        "X_external_dataset[:, 1] = leModel.fit_transform(X_external_dataset[:, 1])\n",
        "leLocation = LabelEncoder()\n",
        "X_external_dataset[:, 2] = leLocation.fit_transform(X_external_dataset[:, 2])\n",
        "leOwnerType = LabelEncoder()\n",
        "X_external_dataset[:, 4] = leOwnerType.fit_transform(X_external_dataset[:, 4])\n",
        "\n",
        "from sklearn.preprocessing import StandardScaler\n",
        "scExternal = StandardScaler()\n",
        "X_external_dataset = scExternal.fit_transform(X_external_dataset)"
      ],
      "metadata": {
        "id": "p9UuN5o23Ig1"
      },
      "execution_count": 62,
      "outputs": []
    },
    {
      "cell_type": "code",
      "source": [
        "print(X_external_dataset)"
      ],
      "metadata": {
        "colab": {
          "base_uri": "https://localhost:8080/"
        },
        "id": "TyL3wz5w5bPO",
        "outputId": "0086bb5a-ea1c-496c-d2fa-2b85535d767c"
      },
      "execution_count": 63,
      "outputs": [
        {
          "output_type": "stream",
          "name": "stdout",
          "text": [
            "[[ 0.65706126 -0.50942244  1.27807864 ...  0.38301867  0.47958219\n",
            "  -1.02726378]\n",
            " [ 0.65706126  0.4691636  -0.62186706 ...  0.38301867  0.47958219\n",
            "   0.97345981]\n",
            " [ 0.65706126 -0.50942244 -0.62186706 ...  1.0292476   0.47958219\n",
            "   0.97345981]\n",
            " ...\n",
            " [ 0.65706126 -0.50942244 -1.25518229 ...  1.0292476   0.47958219\n",
            "   0.97345981]\n",
            " [ 0.26196606  0.30606593  0.32810579 ...  0.38301867  1.55693926\n",
            "  -1.02726378]\n",
            " [-0.52822434 -0.99871546  0.32810579 ... -2.20189702 -2.21381049\n",
            "  -1.02726378]]\n"
          ]
        }
      ]
    },
    {
      "cell_type": "code",
      "source": [
        "\n",
        "y_pred_extTernal_dataset = regression.predict(X_external_dataset)"
      ],
      "metadata": {
        "id": "n5bFXAKT5kUe"
      },
      "execution_count": 64,
      "outputs": []
    },
    {
      "cell_type": "code",
      "source": [
        "print(y_pred_extTernal_dataset)\n",
        "print(len(y_pred_extTernal_dataset))\n",
        "print(len(X_external_dataset))\n"
      ],
      "metadata": {
        "colab": {
          "base_uri": "https://localhost:8080/"
        },
        "id": "RDq7zkzj7j3g",
        "outputId": "f628ed19-0305-45ed-ca05-6c6cfd817a2d"
      },
      "execution_count": 65,
      "outputs": [
        {
          "output_type": "stream",
          "name": "stdout",
          "text": [
            "[ 419854.605   996192.48   1426099.2975 ...  388487.1525 1118351.1825\n",
            "  775639.0725]\n",
            "5615\n",
            "5615\n"
          ]
        }
      ]
    },
    {
      "cell_type": "code",
      "source": [
        "import numpy as npExt2\n",
        "#myExtdata = npExt2.concatenate((y_pred_extTernal_dataset.reshape(len(y_pred_extTernal_dataset), 1), X_external_dataset.reshape(len(X_external_dataset), 1)), 1)\n",
        "myExtdata = npExt2.concatenate((X_external_dataset.reshape(len(X_external_dataset), 15), y_pred_extTernal_dataset.reshape(len(y_pred_extTernal_dataset), 1)), 1)\n",
        "print(myExtdata)\n",
        "\n",
        "dataframeExt = pd.DataFrame(myExtdata)\n",
        "print(dataframeExt)\n",
        "dataframeExt.to_csv(r'/content/my_data_export.csv', index=True)\n",
        "\n"
      ],
      "metadata": {
        "colab": {
          "base_uri": "https://localhost:8080/"
        },
        "id": "lgzKuFkF8I66",
        "outputId": "df9d3e5d-b0c1-4b72-fd59-1873850e3f6c"
      },
      "execution_count": 67,
      "outputs": [
        {
          "output_type": "stream",
          "name": "stdout",
          "text": [
            "[[ 6.57061258e-01 -5.09422441e-01  1.27807864e+00 ...  4.79582191e-01\n",
            "  -1.02726378e+00  4.19854605e+05]\n",
            " [ 6.57061258e-01  4.69163603e-01 -6.21867057e-01 ...  4.79582191e-01\n",
            "   9.73459811e-01  9.96192480e+05]\n",
            " [ 6.57061258e-01 -5.09422441e-01 -6.21867057e-01 ...  4.79582191e-01\n",
            "   9.73459811e-01  1.42609930e+06]\n",
            " ...\n",
            " [ 6.57061258e-01 -5.09422441e-01 -1.25518229e+00 ...  4.79582191e-01\n",
            "   9.73459811e-01  3.88487153e+05]\n",
            " [ 2.61966060e-01  3.06065929e-01  3.28105789e-01 ...  1.55693926e+00\n",
            "  -1.02726378e+00  1.11835118e+06]\n",
            " [-5.28224338e-01 -9.98715463e-01  3.28105789e-01 ... -2.21381049e+00\n",
            "  -1.02726378e+00  7.75639073e+05]]\n",
            "            0         1         2         3         4         5         6   \\\n",
            "0     0.657061 -0.509422  1.278079  0.184201 -1.302263 -0.736289  0.736289   \n",
            "1     0.657061  0.469164 -0.621867 -0.210483  1.345488  0.741516 -0.741516   \n",
            "2     0.657061 -0.509422 -0.621867 -0.206599  0.462905  0.741516 -0.741516   \n",
            "3    -1.713510 -0.183227 -0.305209 -0.278299 -0.419679  0.952631 -0.952631   \n",
            "4    -1.713510  0.958457 -0.938525 -0.285661  1.345488  0.952631 -0.952631   \n",
            "...        ...       ...       ...       ...       ...       ...       ...   \n",
            "5610  0.657061 -0.509422  1.278079  0.184123 -1.302263  0.108171 -0.108171   \n",
            "5611  0.657061  0.795359 -1.571840  0.779709 -1.302263 -1.158519  1.158519   \n",
            "5612  0.657061 -0.509422 -1.255182  0.448580  0.462905 -1.158519  1.158519   \n",
            "5613  0.261966  0.306066  0.328106 -0.098894  1.345488  0.108171 -0.108171   \n",
            "5614 -0.528224 -0.998715  0.328106 -0.061200  0.462905  0.108171 -0.108171   \n",
            "\n",
            "            7         8         9         10        11        12        13  \\\n",
            "0    -0.200206 -0.448884 -0.284705 -0.711545  0.665081  0.383019  0.479582   \n",
            "1    -0.198068 -0.407124 -0.284705 -1.426400  0.665081  0.383019  0.479582   \n",
            "2     0.065700  0.281915 -0.284705 -0.711545  0.665081  1.029248  0.479582   \n",
            "3     0.065700  0.281915 -0.284705  1.433020 -1.503577  0.383019  0.479582   \n",
            "4     0.077107  1.513835 -0.284705 -1.426400 -1.503577 -0.909439 -2.213810   \n",
            "...        ...       ...       ...       ...       ...       ...       ...   \n",
            "5610  0.065700  0.135755 -0.284705  1.433020  0.665081  0.383019  0.479582   \n",
            "5611  0.014373 -0.010405 -0.284705  0.003310  0.665081  0.383019  0.479582   \n",
            "5612  0.014373 -0.407124 -0.284705  0.718165  0.665081  1.029248  0.479582   \n",
            "5613  0.086374  0.156635 -0.284705 -0.711545  0.665081  0.383019  1.556939   \n",
            "5614 -0.342071 -0.344485 -0.284705 -1.426400  0.665081 -2.201897 -2.213810   \n",
            "\n",
            "            14            15  \n",
            "0    -1.027264  4.198546e+05  \n",
            "1     0.973460  9.961925e+05  \n",
            "2     0.973460  1.426099e+06  \n",
            "3     0.973460  2.343917e+06  \n",
            "4    -1.027264  2.743016e+06  \n",
            "...        ...           ...  \n",
            "5610  0.973460  8.016854e+05  \n",
            "5611  0.973460  3.244179e+05  \n",
            "5612  0.973460  3.884872e+05  \n",
            "5613 -1.027264  1.118351e+06  \n",
            "5614 -1.027264  7.756391e+05  \n",
            "\n",
            "[5615 rows x 16 columns]\n"
          ]
        }
      ]
    }
  ]
}